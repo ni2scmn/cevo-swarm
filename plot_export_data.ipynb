{
 "cells": [
  {
   "cell_type": "code",
   "execution_count": 1,
   "id": "1c5b0aa6",
   "metadata": {},
   "outputs": [],
   "source": [
    "import json\n",
    "import numpy as np\n",
    "import matplotlib.pyplot as plt\n",
    "import pandas as pd\n",
    "import seaborn as sns\n",
    "import ast"
   ]
  },
  {
   "cell_type": "code",
   "execution_count": 2,
   "id": "bfa7e7db",
   "metadata": {},
   "outputs": [],
   "source": [
    "def draw_frame(box_c, metadata):\n",
    "    fig = plt.figure()\n",
    "#     plt.rcParams['font.size'] = '16'\n",
    "    ax = plt.axes(xlim=(0, 500), ylim=(0, 500))\n",
    "    plt.axis('square')\n",
    "    \n",
    "    bt_ratio = metadata['box_type_ratio']\n",
    "    colours = ['b','g','r','c','m','y']\n",
    "    marker_size = 5\n",
    "    \n",
    "    idx = 0\n",
    "    c_idx = 0\n",
    "    for i in bt_ratio:\n",
    "        no_boxes = int(i*len(box_c[0]))\n",
    "        c0 = box_c[0][idx:idx+no_boxes]\n",
    "        c1 = box_c[1][idx:idx+no_boxes]\n",
    "        ax.plot(\n",
    "            c0,\n",
    "            c1, \n",
    "            's', \n",
    "            color=colours[c_idx],\n",
    "    #         fillstyle = 'none',\n",
    "            markersize = marker_size)\n",
    "    #         linewidth=2)\n",
    "        idx += no_boxes\n",
    "        c_idx += 1\n",
    "\n",
    "    plt.xticks([0,250,500])\n",
    "    plt.yticks([0,250,500])\n",
    "    \n",
    "def proc_data(data):\n",
    "    c = {}\n",
    "    for col in data.columns:\n",
    "        c_0 = []\n",
    "        c_1 = []\n",
    "        for r in data[col]:\n",
    "            c__ = ast.literal_eval(r)\n",
    "            c_0.append(c__[0])\n",
    "            c_1.append(c__[1])\n",
    "        c[int(col)] = [c_0,c_1]\n",
    "    return c\n",
    "\n",
    "def draw_multiple_frames(data,metadata):\n",
    "    for idx, (key, val) in enumerate(data.items()):\n",
    "        if idx == len(data)-1:\n",
    "            draw_frame(val,metadata)\n",
    "        \n",
    "def viz(ex,filename):\n",
    "    data = proc_data(pd.read_csv(\"data/%s/%s/boxes.csv\"%(ex,filename)))\n",
    "    with open(\"data/%s/%s/metadata.txt\"%(ex,filename), \"r\") as f:\n",
    "        metadata = json.loads(f.readline().strip())\n",
    "    draw_multiple_frames(data,metadata)"
   ]
  },
  {
   "cell_type": "code",
   "execution_count": 3,
   "id": "f0edb75d",
   "metadata": {},
   "outputs": [
    {
     "data": {
      "image/png": "[encoded data removed]",
      "text/plain": [
       "<Figure size 640x480 with 1 Axes>"
      ]
     },
     "metadata": {},
     "output_type": "display_data"
    }
   ],
   "source": [
    "viz(\"e_1\",\"1746886474\")"
   ]
  }
 ],
 "metadata": {
  "kernelspec": {
   "display_name": "venv",
   "language": "python",
   "name": "python3"
  },
  "language_info": {
   "codemirror_mode": {
    "name": "ipython",
    "version": 3
   },
   "file_extension": ".py",
   "mimetype": "text/x-python",
   "name": "python",
   "nbconvert_exporter": "python",
   "pygments_lexer": "ipython3",
   "version": "3.12.10"
  }
 },
 "nbformat": 4,
 "nbformat_minor": 5
}
